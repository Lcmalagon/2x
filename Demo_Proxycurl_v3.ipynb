{
 "cells": [
  {
   "cell_type": "code",
   "execution_count": 8,
   "id": "d0476521",
   "metadata": {
    "tags": []
   },
   "outputs": [],
   "source": [
    "import os.path\n",
    "from os import path\n",
    "from PIL import Image\n",
    "import csv\n",
    "import time\n",
    "from time import sleep\n",
    "import random\n",
    "import pandas as pd\n",
    "import requests\n",
    "from selenium import webdriver\n",
    "from selenium.webdriver.common.by import By\n",
    "from selenium.webdriver.support.ui import WebDriverWait\n",
    "from selenium.webdriver.support import expected_conditions as EC\n",
    "from selenium.webdriver.chrome.service import Service\n",
    "from selenium.webdriver.chrome.options import Options\n",
    "from selenium.webdriver.common.keys import Keys\n",
    "from webdriver_manager.chrome import ChromeDriverManager\n",
    "from selenium.common.exceptions import NoSuchElementException, TimeoutException\n",
    "from selenium.common.exceptions import WebDriverException\n",
    "from selenium.common.exceptions import NoSuchElementException\n",
    "from parsel import Selector\n",
    "\n",
    "\n",
    "\n",
    "#To find additional xpaths\n",
    "#https://www.linkedin.com/pulse/techniques-find-xpath-selenium-webdriver-vivekanand-r-yadav/"
   ]
  },
  {
   "cell_type": "code",
   "execution_count": 9,
   "id": "44cc005a",
   "metadata": {
    "tags": []
   },
   "outputs": [],
   "source": [
    "#response.headers[\"content-type\"].strip().startswith(\"application/json\") except ValueError:\n",
    "            #print('Value Error')\n",
    "\n",
    "\n",
    "# Try and except block to check connection error \n",
    "\n",
    "PROXYCURL_API_KEY = '6oSXWw7GQI-9S6GI7MaguA'  # todo - fill this field up\n",
    "\n",
    "\n",
    "def get_profile(profile_url):\n",
    "    api_endpoint = 'https://nubela.co/proxycurl/api/v2/linkedin'\n",
    "    header_dic = {'Authorization': 'Bearer ' + PROXYCURL_API_KEY}\n",
    "    params = {\n",
    "        'url': profile_url, 'use_cache':'if-recent'\n",
    "    }\n",
    "    \n",
    "    response = requests.get(api_endpoint,\n",
    "                            params = params,\n",
    "                            headers = header_dic)\n",
    "        \n",
    "    if response.status_code == 204:\n",
    "        raise ValueError\n",
    "    return response.json()\n",
    "   \n",
    "    \n",
    "        \n",
    "        "
   ]
  },
  {
   "cell_type": "code",
   "execution_count": 10,
   "id": "12090a67",
   "metadata": {
    "tags": []
   },
   "outputs": [],
   "source": [
    "# Proxy curl web scraping Loop through each profile ID\n",
    "import json\n",
    "\n",
    "def web_scraping(df, csv_data, number_links = 9, start = 0):\n",
    "    for profile_url in csv_data['url'][start:start + number_links]:\n",
    "        data = get_profile(profile_url)\n",
    "        with open('profile', 'w') as f:\n",
    "            json.dump(data, f)\n",
    "        \n",
    "        #print(data)\n",
    "    \n",
    "   # Extracting basic fields\n",
    "        \n",
    "        linkedin_id = data.get('public_identifier', '')\n",
    "        first_name = data.get('first_name', '')\n",
    "        last_name = data.get('last_name', '')\n",
    "        title = data.get('headline', '')\n",
    "        location = data.get('state', '')\n",
    "        url = profile_url\n",
    "\n",
    "# Extracting positions \n",
    "        positions = data['experiences']\n",
    "# Formatting education\n",
    "        educations = data['education']\n",
    "\n",
    "\n",
    "        schools = [edu['school'] for edu in educations] # iterating and collecting multiple school names\n",
    "        degrees = [f\"{edu['degree_name']} in {edu['field_of_study']}\" for edu in educations]# iterating and collecting mutliple degrees\n",
    "        companies = [pos['company'] for pos in positions] # iterating list of companies\n",
    "        job_titles = [pos['title'] for pos in positions] # iterating list of job_titles\n",
    "        graduation_year = [f\"({edu['ends_at']['year']})\" for edu in educations if edu['ends_at']] # iteating lists of all their graduation year\n",
    "        schools_str = \"; \".join(schools)# joins schools in one string\n",
    "        degrees_str = \"; \".join(degrees)# joins degrees_str in one string\n",
    "        job_titles_str = \"; \".join(job_titles)\n",
    "        companies_str = \"; \".join(companies) # join companies in one string\n",
    "        graduation_str = \"; \".join(graduation_year) # joins graduation in one string\n",
    "    #except(KeyError, IndexError, TypeError) as ex:\n",
    "    \n",
    "\n",
    "    # Skills (assuming it's an array but it's empty in the provided\n",
    "    #skills = data['skills']\n",
    "\n",
    "    # Appending to the DataFrame\n",
    "    \n",
    "        x = {\n",
    "        'url' : url,\n",
    "        'ID': linkedin_id,\n",
    "        'First_name': first_name,\n",
    "        'Last_name': last_name,\n",
    "        'Location': location,\n",
    "        'Prev_companies': companies_str,\n",
    "        'Prev_job_titles': job_titles_str,\n",
    "        'Degree': degrees_str,\n",
    "        'Graduation_year': graduation_str,\n",
    "        'Current_title': title}\n",
    "\n",
    "        df = df.append(x, ignore_index = True)# its not going to create a index column\n",
    "\n",
    "        print(x)\n",
    "\n",
    "        #print(url, linkedin_id, first_name, last_name, location,companies_str, job_titles_str, degrees_str, graduation_str, title)\n",
    "\n",
    "\n",
    "    return df\n"
   ]
  },
  {
   "cell_type": "code",
   "execution_count": 11,
   "id": "24de6b39-833d-41fb-92fe-6e5be3decc61",
   "metadata": {
    "tags": []
   },
   "outputs": [],
   "source": [
    "# Import CSV file\n",
    "\n",
    "# Specify the filename\n",
    "\n",
    "# Write the DataFrame to a .csv file\n",
    "def df_to_csv(df, filename):\n",
    "    return df.to_csv(filename, index = False, encoding = 'utf-8')\n",
    "\n",
    "    print(f\"Data has been written to {filename}\")\n",
    "\n"
   ]
  },
  {
   "cell_type": "code",
   "execution_count": 12,
   "id": "09eb4a6f",
   "metadata": {
    "tags": []
   },
   "outputs": [
    {
     "name": "stderr",
     "output_type": "stream",
     "text": [
      "/var/folders/ld/v3nxst2d7m1d_r3bs5ph810h0000gp/T/ipykernel_8754/2157898223.py:57: FutureWarning: The frame.append method is deprecated and will be removed from pandas in a future version. Use pandas.concat instead.\n",
      "  df = df.append(x, ignore_index = True)# its not going to create a index column\n"
     ]
    },
    {
     "name": "stdout",
     "output_type": "stream",
     "text": [
      "{'url': 'https://www.linkedin.com/in/ahmedin/', 'ID': 'ahmedin', 'First_name': 'Ahmed', 'Last_name': 'Ahmedin', 'Location': 'California', 'Prev_companies': 'Apple; Polaris Wireless; Polaris Wireless; Juniper Networks; InterDigital Communications; UC Davis; UC Davis; Cairo University; Nile University', 'Prev_job_titles': 'Sr. Data Scientist; Sr. Data Scientist; Research Intern; Product Delivery Network Engineer; Researcher; Research Assistant; Teaching Assistant; Instructor/ Trainer; Research Assistant', 'Degree': 'Doctor of Philosophy - PhD in Electrical, Computer and Communications Engineering; Master of Science (M.Sc.) in Electrical, Electronics and Communications Engineering; Bachelor of Science (B.Sc.) in Electrical, Electronics and Communications Engineering', 'Graduation_year': '(2015); (2010); (2008)', 'Current_title': 'Data Scientist at Apple'}\n"
     ]
    },
    {
     "name": "stderr",
     "output_type": "stream",
     "text": [
      "/var/folders/ld/v3nxst2d7m1d_r3bs5ph810h0000gp/T/ipykernel_8754/2157898223.py:57: FutureWarning: The frame.append method is deprecated and will be removed from pandas in a future version. Use pandas.concat instead.\n",
      "  df = df.append(x, ignore_index = True)# its not going to create a index column\n"
     ]
    },
    {
     "name": "stdout",
     "output_type": "stream",
     "text": [
      "{'url': 'https://www.linkedin.com/in/hanna-coloma-758a67183/', 'ID': 'hanna-coloma-758a67183', 'First_name': 'Hanna', 'Last_name': 'Coloma', 'Location': None, 'Prev_companies': 'Cal Sports Orthopedic Surgical Center; LACO Associates; LACO Associates; Orangetheory Fitness; Orangetheory Fitness; Albert Solino Consulting; Los Angeles Rams', 'Prev_job_titles': 'Marketing Consultant; Marketing Assistant; Marketing Coordinator at LACO Associates; Assistant Manager; Orangetheory ; Marketing Specialist ; LA Rams Training Camp', 'Degree': 'Major in Education; Bachelors in Criminology; Master of Science - MS in Business Analytics ; Master of Science - MS in Business Analytics', 'Graduation_year': '(2023); (2023)', 'Current_title': 'Marketing Coordinator'}\n"
     ]
    },
    {
     "name": "stderr",
     "output_type": "stream",
     "text": [
      "/var/folders/ld/v3nxst2d7m1d_r3bs5ph810h0000gp/T/ipykernel_8754/2157898223.py:57: FutureWarning: The frame.append method is deprecated and will be removed from pandas in a future version. Use pandas.concat instead.\n",
      "  df = df.append(x, ignore_index = True)# its not going to create a index column\n"
     ]
    },
    {
     "name": "stdout",
     "output_type": "stream",
     "text": [
      "{'url': 'https://www.linkedin.com/in/angie-escovar-52b6881b3/', 'ID': 'angie-escovar-52b6881b3', 'First_name': 'Angie', 'Last_name': 'Escovar', 'Location': 'California', 'Prev_companies': \"The Surplus Line Association of California; Bank of America; Macy's\", 'Prev_job_titles': 'Associate Financial Analyst; Relationship Banker; Sales Commission Associate', 'Degree': 'Master of Science - MS in Business Analytics; Bachelor of Arts - BA in Economics', 'Graduation_year': '(2023); (2020)', 'Current_title': 'Associate Financial Analyst at SLA'}\n"
     ]
    },
    {
     "name": "stderr",
     "output_type": "stream",
     "text": [
      "/var/folders/ld/v3nxst2d7m1d_r3bs5ph810h0000gp/T/ipykernel_8754/2157898223.py:57: FutureWarning: The frame.append method is deprecated and will be removed from pandas in a future version. Use pandas.concat instead.\n",
      "  df = df.append(x, ignore_index = True)# its not going to create a index column\n"
     ]
    },
    {
     "name": "stdout",
     "output_type": "stream",
     "text": [
      "{'url': 'https://www.linkedin.com/in/dana-caines-409207b/', 'ID': 'dana-caines-409207b', 'First_name': 'Dana', 'Last_name': 'Caines', 'Location': 'California', 'Prev_companies': 'Ross Stores, Inc.; Ross Stores, Inc.; Ross Stores, Inc.', 'Prev_job_titles': 'Sr IT Manager, Allocation Systems; IT Manager, Allocation Systems; IT Manager, Warehouse Control Systems', 'Degree': 'Master of Science - MS in Business Analytics; Bachelor of Arts - BA in Mathematics', 'Graduation_year': '(2023)', 'Current_title': 'Sr IT Manager at Ross Stores'}\n"
     ]
    },
    {
     "name": "stderr",
     "output_type": "stream",
     "text": [
      "/var/folders/ld/v3nxst2d7m1d_r3bs5ph810h0000gp/T/ipykernel_8754/2157898223.py:57: FutureWarning: The frame.append method is deprecated and will be removed from pandas in a future version. Use pandas.concat instead.\n",
      "  df = df.append(x, ignore_index = True)# its not going to create a index column\n"
     ]
    },
    {
     "name": "stdout",
     "output_type": "stream",
     "text": [
      "{'url': 'https://linkedin.com/in/christopher-joseph-t-gallevo/', 'ID': 'christopher-joseph-t-gallevo', 'First_name': 'Christopher Joseph T.', 'Last_name': 'Gallevo', 'Location': None, 'Prev_companies': 'Crossover Health', 'Prev_job_titles': 'Patient Care Host', 'Degree': \"Master of Science - MS in Business Analytics; Bachelor's degree in Mathematics and Computer Science; High School Diploma in 2013-2017\", 'Graduation_year': '(2024); (2021)', 'Current_title': \"Master's in Business Analytics Student at Saint Mary's College of California | Interested in opportunities within Data Science and SWE\"}\n"
     ]
    },
    {
     "name": "stderr",
     "output_type": "stream",
     "text": [
      "/var/folders/ld/v3nxst2d7m1d_r3bs5ph810h0000gp/T/ipykernel_8754/2157898223.py:57: FutureWarning: The frame.append method is deprecated and will be removed from pandas in a future version. Use pandas.concat instead.\n",
      "  df = df.append(x, ignore_index = True)# its not going to create a index column\n"
     ]
    },
    {
     "name": "stdout",
     "output_type": "stream",
     "text": [
      "{'url': 'https://www.linkedin.com/in/todd-marinchak-47281626/', 'ID': 'todd-marinchak-47281626', 'First_name': 'Todd', 'Last_name': 'Marinchak', 'Location': 'California', 'Prev_companies': 'Source Surgical; Aesculap', 'Prev_job_titles': 'Owner; Sales', 'Degree': 'Bachelor of Science (BS) in Marketing/Marketing Management, Economics', 'Graduation_year': '(1988)', 'Current_title': 'Healthcare Executive, Med Tech Entrepreneur; Source Surgical  '}\n"
     ]
    },
    {
     "name": "stderr",
     "output_type": "stream",
     "text": [
      "/var/folders/ld/v3nxst2d7m1d_r3bs5ph810h0000gp/T/ipykernel_8754/2157898223.py:57: FutureWarning: The frame.append method is deprecated and will be removed from pandas in a future version. Use pandas.concat instead.\n",
      "  df = df.append(x, ignore_index = True)# its not going to create a index column\n"
     ]
    },
    {
     "name": "stdout",
     "output_type": "stream",
     "text": [
      "{'url': 'https://www.linkedin.com/in/liam-heggemann/', 'ID': 'liam-heggemann', 'First_name': 'Liam', 'Last_name': 'Heggemann', 'Location': 'Illinois', 'Prev_companies': \"Saint Mary's College Baseball; Saint Mary's College Baseball; lululemon; Metropolitan Collegiate Baseball League; DICK'S Sporting Goods\", 'Prev_job_titles': 'Head of Baseball Analytics, Data; Undergraduate Assistant, Baseball Operations; Seasonal Educator; Baseball Analytics Intern; Sales associate', 'Degree': \"Master of Science - MS in Business Analytics; Bachelor's degree in Business Administration and Management, General; None in None\", 'Graduation_year': '(2023); (2022); (2018)', 'Current_title': \"Head of Baseball Analytics, Saint Mary's D1 Baseball Program & Masters Candidate in Business Analytics\"}\n"
     ]
    },
    {
     "name": "stderr",
     "output_type": "stream",
     "text": [
      "/var/folders/ld/v3nxst2d7m1d_r3bs5ph810h0000gp/T/ipykernel_8754/2157898223.py:57: FutureWarning: The frame.append method is deprecated and will be removed from pandas in a future version. Use pandas.concat instead.\n",
      "  df = df.append(x, ignore_index = True)# its not going to create a index column\n"
     ]
    },
    {
     "name": "stdout",
     "output_type": "stream",
     "text": [
      "{'url': 'https://www.linkedin.com/in/anamikamedhi/', 'ID': 'anamikamedhi', 'First_name': 'Anamika', 'Last_name': 'Medhi', 'Location': None, 'Prev_companies': 'Alpha Recon; Johan Innovation Private Limited; Right Arc; Indian Institute of Technology, Bombay', 'Prev_job_titles': 'Intel Analyst; Co-Founder; Human Resources Analyst; Project Assistant', 'Degree': 'Master of Science - MS in Business analytics; Master of Arts - MA in Sociology', 'Graduation_year': '(2023)', 'Current_title': 'Business Analyst | Data Analyst | HR Analyst |Human Resources|People Analyst'}\n",
      "{'url': 'https://www.linkedin.com/in/clinton-nguyen-453b2313b/', 'ID': 'clinton-nguyen-453b2313b', 'First_name': 'Clinton', 'Last_name': 'Nguyen', 'Location': 'California', 'Prev_companies': 'Boys & Girls Clubs of the Peninsula; VTN Manufacturing, Inc.; VTN Manufacturing Inc; Snackpass; Belong; Belong; HR Support ; Homeplus Mortgage | NMLS#78669 | CA BRE Broker #01426454; Homeplus Mortgage | NMLS#78669 | CA BRE Broker #01426454; Loan Factory; Loan Factory; Moso; GetSales; Currency Exchange International; Evergreen Valley College; Daiso USA; Kumon North America, Inc.', 'Prev_job_titles': 'Operations & Finance Associate ; Finance Operations Associate; Entry Level Bookkeeper ; Operations Specialist; Sales Development Representative; Open Home Coordinator ; Data Entry Clerk; Realtor Relations Specialist; Mortgage Intern; Closing Processor; Mortgage Administration Assistant; Customer Service Agent; Outside Sales Representative; Customer Service Teller; Library Assistant; Sales Associate; Teaching Assistant', 'Degree': 'Master of Science - MS in Finance; Bachelor of Science - BS in Finance; Associate of Arts and Sciences - AAS in Business Administration and Economics; High School Diploma in General Studies', 'Graduation_year': '(2023); (2022); (2020); (2018)', 'Current_title': 'Operations & Finance Associate @ Boys & Girls Clubs | MS Finance'}\n"
     ]
    },
    {
     "name": "stderr",
     "output_type": "stream",
     "text": [
      "/var/folders/ld/v3nxst2d7m1d_r3bs5ph810h0000gp/T/ipykernel_8754/2157898223.py:57: FutureWarning: The frame.append method is deprecated and will be removed from pandas in a future version. Use pandas.concat instead.\n",
      "  df = df.append(x, ignore_index = True)# its not going to create a index column\n"
     ]
    }
   ],
   "source": [
    "\n",
    "file_name = 'cohort.csv'\n",
    "\n",
    "csv_data = pd.read_csv(file_name)\n",
    "\n",
    "columns = ['url', 'ID', 'First_name', 'Last_name','Location', 'Prev_companies', 'Prev_job_titles', 'Degree', 'Graduation_year', 'Current_title']\n",
    "\n",
    "df = pd.DataFrame(columns = columns)\n",
    "\n",
    "df2 = web_scraping(df, csv_data)\n",
    "\n",
    "#df_2 = web_scraping_automation(df, csv_data)"
   ]
  },
  {
   "cell_type": "code",
   "execution_count": 7,
   "id": "6450665f",
   "metadata": {
    "tags": []
   },
   "outputs": [
    {
     "name": "stdout",
     "output_type": "stream",
     "text": [
      "Data has been written to team_proxy_linkedin.csv\n"
     ]
    }
   ],
   "source": [
    "# Saved the database to the csv file.\n",
    "\n",
    "# Specify the filename\n",
    "\n",
    "#print(df2)\n",
    "\n",
    "filename = 'team_proxy_linkedin.csv'\n",
    "\n",
    "# Write the DataFrame to a .csv file\n",
    "df2.to_csv(filename, index = False, encoding ='utf-8')\n",
    "\n",
    "print(f\"Data has been written to {filename}\")"
   ]
  },
  {
   "cell_type": "code",
   "execution_count": 21,
   "id": "47303198",
   "metadata": {
    "tags": []
   },
   "outputs": [
    {
     "name": "stdout",
     "output_type": "stream",
     "text": [
      "                                                 url  \\\n",
      "0               https://www.linkedin.com/in/ahmedin/   \n",
      "1  https://www.linkedin.com/in/hanna-coloma-758a6...   \n",
      "2  https://www.linkedin.com/in/angie-escovar-52b6...   \n",
      "3   https://www.linkedin.com/in/dana-caines-409207b/   \n",
      "4  https://linkedin.com/in/christopher-joseph-t-g...   \n",
      "\n",
      "                             ID             First_name Last_name  \\\n",
      "0                       ahmedin                  Ahmed   Ahmedin   \n",
      "1        hanna-coloma-758a67183                  Hanna    Coloma   \n",
      "2       angie-escovar-52b6881b3                  Angie   Escovar   \n",
      "3           dana-caines-409207b                   Dana    Caines   \n",
      "4  christopher-joseph-t-gallevo  Christopher Joseph T.   Gallevo   \n",
      "\n",
      "          Location                                     Prev_companies  \\\n",
      "0       California  Polaris Wireless; Polaris Wireless; Juniper Ne...   \n",
      "1  California Area  Polaris Wireless; Polaris Wireless; Juniper Ne...   \n",
      "2    United States                                             Macy's   \n",
      "3       California                                             Macy's   \n",
      "4             None                                             Macy's   \n",
      "\n",
      "                                     Prev_job_titles  \\\n",
      "0  Sr. Data Scientist; Research Intern; Product D...   \n",
      "1  Sr. Data Scientist; Research Intern; Product D...   \n",
      "2                         Sales Commission Associate   \n",
      "3                         Sales Commission Associate   \n",
      "4                         Sales Commission Associate   \n",
      "\n",
      "                                              Degree         Graduation_year  \\\n",
      "0  Doctor of Philosophy - PhD in Electrical, Comp...  (2015); (2010); (2008)   \n",
      "1  Doctor of Philosophy - PhD in Electrical, Comp...  (2015); (2010); (2008)   \n",
      "2                                                                              \n",
      "3                                                                              \n",
      "4                                                                              \n",
      "\n",
      "                                       Current_title  \n",
      "0             Sr. Data Scientist at Polaris Wireless  \n",
      "1  \\n                  D1 NCAA track and field at...  \n",
      "2  \\n                  Sales Commission Associate...  \n",
      "3                          IT Manager at Ross Stores  \n",
      "4  Master's in Business Analytics Student at Sain...  \n"
     ]
    }
   ],
   "source": [
    "print(df2)"
   ]
  },
  {
   "cell_type": "code",
   "execution_count": null,
   "id": "2062ef70-88ac-44d6-abf0-b91ce1fe5374",
   "metadata": {},
   "outputs": [],
   "source": []
  }
 ],
 "metadata": {
  "kernelspec": {
   "display_name": "Python 3 (ipykernel)",
   "language": "python",
   "name": "python3"
  },
  "language_info": {
   "codemirror_mode": {
    "name": "ipython",
    "version": 3
   },
   "file_extension": ".py",
   "mimetype": "text/x-python",
   "name": "python",
   "nbconvert_exporter": "python",
   "pygments_lexer": "ipython3",
   "version": "3.11.3"
  }
 },
 "nbformat": 4,
 "nbformat_minor": 5
}
