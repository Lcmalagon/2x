{
 "cells": [
  {
   "cell_type": "code",
   "execution_count": 8,
   "id": "87db7f66",
   "metadata": {},
   "outputs": [],
   "source": [
    "import pandas as pd\n",
    "# This was causing duplicates, dont use this code for merging\n",
    "# Load the CSV files\n",
    "file_path_1 = 'SEBA_lists.csv'\n",
    "file_path_2 = 'trial1.csv'\n",
    "\n",
    "df1 = pd.read_csv(file_path_1)\n",
    "df2 = pd.read_csv(file_path_2)\n",
    "\n",
    "# Merge the dataframes on the 'Link' column from df1 and 'url' column from df2\n",
    "merged_df = pd.merge(df1, df2, left_on = 'url', right_on='url', how='outer')\n",
    "\n",
    "# Save the merged dataframe to a new CSV file\n",
    "output_file_path = 'merged.csv'\n",
    "\n",
    "merged_df.to_csv(output_file_path, index = False)"
   ]
  },
  {
   "cell_type": "code",
   "execution_count": 22,
   "id": "6b377c79-d24f-4ed1-b2f0-1fe8ec66ebc1",
   "metadata": {
    "scrolled": true,
    "tags": []
   },
   "outputs": [
    {
     "name": "stdout",
     "output_type": "stream",
     "text": [
      "Unique URLs in df1: 8174\n",
      "Unique URLs in df2: 30\n",
      "Duplicate URLs in merged DataFrame: 0 and merged has 30\n"
     ]
    }
   ],
   "source": [
    "import pandas as pd\n",
    "\n",
    "# Update code\n",
    "\n",
    "# Load the CSV files\n",
    "file_path_1 = 'SEBA_lists.csv'\n",
    "\n",
    "file_path_2 = 'new_36.csv'\n",
    "\n",
    "df1 = pd.read_csv(file_path_1)\n",
    "df2 = pd.read_csv(file_path_2)\n",
    "\n",
    "# Check for unique URLs in both DataFrames\n",
    "print(\"Unique URLs in df1:\", df1['url'].nunique())\n",
    "\n",
    "print(\"Unique URLs in df2:\", df2['url'].nunique())\n",
    "\n",
    "# Drop duplicates in each DataFrame based on 'url'\n",
    "df1.drop_duplicates(subset=['url'], inplace = True)\n",
    "\n",
    "df2.drop_duplicates(subset=['url'], inplace = True)\n",
    "\n",
    "# Merge the dataframes on the 'url' column\n",
    "merged_df = pd.merge(df1, df2, on ='url', how ='inner', suffixes = ('_df1', '_df2'))\n",
    "\n",
    "# Check for duplicates in the merged DataFrame based on 'url'\n",
    "duplicate_urls = merged_df[merged_df.duplicated(subset=['url'], keep = False)]\n",
    "\n",
    "print(\"Duplicate URLs in merged DataFrame:\", len(duplicate_urls), \"and merged has\", len(merged_df))\n",
    "\n",
    "# Save the merged dataframe to a new CSV file\n",
    "output_file_path = 'merged.csv'\n",
    "\n",
    "merged_df.to_csv(output_file_path, index=False)\n"
   ]
  },
  {
   "cell_type": "code",
   "execution_count": null,
   "id": "e788b904-3231-4bcc-892f-744d26d90691",
   "metadata": {
    "scrolled": true,
    "tags": []
   },
   "outputs": [],
   "source": [
    "# Load the merged CSV file\n",
    "file_path_merged = 'merged.csv'\n",
    "merged_df = pd.read_csv(file_path_merged)\n",
    "\n",
    "# Display rows 2 to 231\n",
    "subset = merged_df.iloc[2:232]\n",
    "print(subset)\n"
   ]
  },
  {
   "cell_type": "code",
   "execution_count": null,
   "id": "398ff1cb-8054-434c-9e98-5812511976c4",
   "metadata": {
    "tags": []
   },
   "outputs": [],
   "source": [
    "# Load the merged CSV file\n",
    "file_path_merged = 'merged.csv'\n",
    "merged_df = pd.read_csv(file_path_merged)\n",
    "\n",
    "# Defining the range to check for duplicates (from merged file row 2 to row 231)\n",
    "start_index = 2\n",
    "\n",
    "end_index = 231\n",
    "\n",
    "# Check for duplicates within the specified range\n",
    "duplicates_within_range = merged_df.iloc[start_index:end_index+1][merged_df.iloc[start_index:end_index+1].duplicated()]\n",
    "print(duplicates_within_range)\n"
   ]
  },
  {
   "cell_type": "raw",
   "id": "8b17ca9e-9a40-44d9-a30e-216efc7552ce",
   "metadata": {},
   "source": [
    "Avoiding Duplicates before merging code\n",
    "# Checking for and removing duplicates in 'url' column in both DataFrames\n",
    "df1.drop_duplicates(subset='url', inplace=True)\n",
    "df2.drop_duplicates(subset='url', inplace=True)"
   ]
  },
  {
   "cell_type": "code",
   "execution_count": null,
   "id": "f4de356c-b957-42e3-ab32-52124bbbe10e",
   "metadata": {
    "tags": []
   },
   "outputs": [],
   "source": [
    "print(len(df1), len(df2), len(merged_df))\n"
   ]
  },
  {
   "cell_type": "code",
   "execution_count": null,
   "id": "cbf3538c-abce-424f-87e8-b48d0e871ad3",
   "metadata": {
    "tags": []
   },
   "outputs": [],
   "source": [
    "duplicates = merged_df.duplicated(subset='url')\n",
    "print(merged_df[duplicates])\n"
   ]
  },
  {
   "cell_type": "code",
   "execution_count": null,
   "id": "54afd014-8172-4cf6-85d3-ec4db9d864fc",
   "metadata": {
    "scrolled": true,
    "tags": []
   },
   "outputs": [],
   "source": [
    "name_duplicates = merged_df.duplicated(subset=['first_name', 'last_name'])\n",
    "print(merged_df[name_duplicates])\n"
   ]
  },
  {
   "cell_type": "raw",
   "id": "d4d03d0f-359c-4b58-9f3e-7f70705968a9",
   "metadata": {},
   "source": [
    "Proxycurl"
   ]
  },
  {
   "cell_type": "code",
   "execution_count": null,
   "id": "3910df19-4a23-49b5-91e7-4844bbeb38a4",
   "metadata": {
    "tags": []
   },
   "outputs": [],
   "source": [
    "import pandas as pd\n",
    "\n",
    "# Update code\n",
    "\n",
    "# Load the CSV files\n",
    "file_path_1 = 'SEBA_lists.csv'\n",
    "\n",
    "file_path_2 = 'beg_12.csv'\n",
    "\n",
    "df1 = pd.read_csv(file_path_1)\n",
    "df2 = pd.read_csv(file_path_2)\n",
    "\n",
    "# Check for unique URLs in both DataFrames\n",
    "print(\"Unique URLs in df1:\", df1['url'].nunique())\n",
    "\n",
    "print(\"Unique URLs in df2:\", df2['url'].nunique())\n",
    "\n",
    "# Drop duplicates in each DataFrame based on 'url'\n",
    "df1.drop_duplicates(subset=['url'], inplace = True)\n",
    "\n",
    "df2.drop_duplicates(subset=['url'], inplace = True)\n",
    "\n",
    "# Merge the dataframes on the 'url' column\n",
    "merged_df = pd.merge(df1, df2, on ='url', how ='inner', suffixes = ('_df1', '_df2'))\n",
    "\n",
    "# Check for duplicates in the merged DataFrame based on 'url'\n",
    "duplicate_urls = merged_df[merged_df.duplicated(subset=['url'], keep = False)]\n",
    "\n",
    "print(\"Duplicate URLs in merged DataFrame:\", len(duplicate_urls), \"and merged has\", len(merged_df))\n",
    "\n",
    "# Save the merged dataframe to a new CSV file\n",
    "output_file_path = 'merged.csv'\n",
    "\n",
    "merged_df.to_csv(output_file_path, index=False)\n"
   ]
  },
  {
   "cell_type": "code",
   "execution_count": null,
   "id": "b232982a-fd02-410a-b6ed-8fed98a3fe76",
   "metadata": {},
   "outputs": [],
   "source": []
  }
 ],
 "metadata": {
  "kernelspec": {
   "display_name": "Python 3 (ipykernel)",
   "language": "python",
   "name": "python3"
  },
  "language_info": {
   "codemirror_mode": {
    "name": "ipython",
    "version": 3
   },
   "file_extension": ".py",
   "mimetype": "text/x-python",
   "name": "python",
   "nbconvert_exporter": "python",
   "pygments_lexer": "ipython3",
   "version": "3.11.3"
  }
 },
 "nbformat": 4,
 "nbformat_minor": 5
}
